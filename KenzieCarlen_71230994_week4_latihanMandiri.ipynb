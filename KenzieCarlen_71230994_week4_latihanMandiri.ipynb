{
 "cells": [
  {
   "cell_type": "code",
   "execution_count": 1,
   "metadata": {},
   "outputs": [
    {
     "name": "stdout",
     "output_type": "stream",
     "text": [
      "False\n"
     ]
    }
   ],
   "source": [
    "def cek_angka():\n",
    "    a = int(input(\"masukkan angka untuk a: \"))\n",
    "    b = int(input(\"masukkan angka untuk b: \"))\n",
    "    c = int(input(\"masukkan angka untuk c: \"))\n",
    "    \n",
    "    if a != b and a != c and b != c:\n",
    "        if a + b == c or a + c == b or b + c == a:\n",
    "            return True\n",
    "    else:\n",
    "        return False\n",
    "\n",
    "hasil = cek_angka()\n",
    "print(hasil)\n"
   ]
  },
  {
   "cell_type": "code",
   "execution_count": 2,
   "metadata": {},
   "outputs": [
    {
     "name": "stdout",
     "output_type": "stream",
     "text": [
      "True\n"
     ]
    }
   ],
   "source": [
    "def cek_digit_belakang():\n",
    "    a = int(input(\"masukkan angka pertama: \"))\n",
    "    b = int(input(\"masukkan angka kedua: \"))\n",
    "    c = int(input(\"masukkan angka ketiga: \"))\n",
    "    \n",
    "    if a%10 == b%10 or a%10 == c%10 or b%10 == c%10:\n",
    "        return True\n",
    "    else:\n",
    "        return False\n",
    "    \n",
    "digit = cek_digit_belakang()\n",
    "print(digit)"
   ]
  },
  {
   "cell_type": "code",
   "execution_count": 3,
   "metadata": {},
   "outputs": [
    {
     "name": "stdout",
     "output_type": "stream",
     "text": [
      "testcase: \n",
      "input C: 100. Output F: 212\n",
      "input C = 0. Output F: 32\n",
      "input C = 80. Output R: 64\n",
      "============================\n",
      "suhu fahrenheitnya adalah 98.60000000000001\n",
      "suhu Reamurnya adalah 29.6\n"
     ]
    }
   ],
   "source": [
    "c_to_f = lambda a : (((9/5)*a)+32) \n",
    "print(\"testcase: \")\n",
    "print(\"input C: 100. Output F:\",int(c_to_f(100)))\n",
    "print(\"input C = 0. Output F:\", int(c_to_f(0)))\n",
    "\n",
    "c_to_r = lambda b : ((4/5)*b)\n",
    "print(\"input C = 80. Output R:\", int(c_to_r(80)))\n",
    "\n",
    "print(\"============================\")\n",
    "ampun_suhu = (float(input(\"masukkan suhu Celcius:\")))\n",
    "print(\"suhu fahrenheitnya adalah\", c_to_f(ampun_suhu))\n",
    "print(\"suhu Reamurnya adalah\", c_to_r(ampun_suhu))"
   ]
  }
 ],
 "metadata": {
  "kernelspec": {
   "display_name": "base",
   "language": "python",
   "name": "python3"
  },
  "language_info": {
   "codemirror_mode": {
    "name": "ipython",
    "version": 3
   },
   "file_extension": ".py",
   "mimetype": "text/x-python",
   "name": "python",
   "nbconvert_exporter": "python",
   "pygments_lexer": "ipython3",
   "version": "3.11.5"
  }
 },
 "nbformat": 4,
 "nbformat_minor": 2
}
